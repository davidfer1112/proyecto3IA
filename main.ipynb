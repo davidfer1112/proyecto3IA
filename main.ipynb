{
 "cells": [
  {
   "cell_type": "markdown",
   "metadata": {},
   "source": [
    "<center><strong><font color=\"#ec6969\" style=\"font-size:30px;\"> Proyecto 3 IA </font></strong></center>\n",
    "<br>\n",
    "<br>\n",
    "\n",
    "___\n",
    "<center>\n",
    "<br>\n",
    "Alejandro Uscátegui Torres <br> \n",
    "Javier Santana <br>\n",
    "David Pérez <br>\n",
    "Santiago Barajas\n",
    "</center>\n",
    "<br>\n",
    "\n",
    "___\n"
   ]
  },
  {
   "cell_type": "code",
   "execution_count": 480,
   "metadata": {},
   "outputs": [
    {
     "data": {
      "text/plain": [
       "'_summary_\\n    \\n    Sistema Operativo: Windows\\n    Nombre del nodo: UscateguiTorres\\n    Versión del Sistema Operativo: 10.0.22631\\n    Tipo de Máquina: AMD64\\n    Procesador: Intel64 Family 6 Model 167 Stepping 1, GenuineIntel\\n    Versión de Python: 3.11.5\\n    \\n'"
      ]
     },
     "execution_count": 480,
     "metadata": {},
     "output_type": "execute_result"
    }
   ],
   "source": [
    "# import platform\n",
    "\n",
    "# print(\"Sistema Operativo:\", platform.system())\n",
    "# print(\"Nombre del nodo:\", platform.node())\n",
    "# print(\"Versión del Sistema Operativo:\", platform.version())\n",
    "# print(\"Tipo de Máquina:\", platform.machine())\n",
    "# print(\"Procesador:\", platform.processor())\n",
    "# print(\"Versión de Python:\", platform.python_version())\n",
    "\n",
    "\"\"\"_summary_\n",
    "    \n",
    "    Sistema Operativo: Windows\n",
    "    Nombre del nodo: UscateguiTorres\n",
    "    Versión del Sistema Operativo: 10.0.22631\n",
    "    Tipo de Máquina: AMD64\n",
    "    Procesador: Intel64 Family 6 Model 167 Stepping 1, GenuineIntel\n",
    "    Versión de Python: 3.11.5\n",
    "    \n",
    "\"\"\""
   ]
  },
  {
   "cell_type": "markdown",
   "metadata": {},
   "source": [
    "<strong><font color=\"#2e53b1\" style=\"font-size:30px;\"> Parte 1: Modelo De Red Bayesiana </font></strong>\n",
    "\n",
    "---\n",
    "\n",
    "**Contexto:**\n",
    "\n",
    "*Una red Bayesiana es un modelo probabilístico que representa un conjunto de variables y sus dependencias condicionales a través de un gráfico dirigido acíclico (DAG). En este gráfico, los nodos representan variables y las aristas representan relaciones de dependencia directa entre estas variables. Cada nodo tiene una tabla de probabilidad condicional que cuantifica las probabilidades de la variable dadso sus padres en el gráfico.*\n",
    "\n",
    "*Las redes bayesianas permiten modelar la incertidumbre y pueden ser usadas para realizar inferencias sobre el valor de una variable basándose en el conocimiento de otras.*\n",
    "\n",
    "Son útiles en el contexto de clasificación, predicción, decisión y diagnosis. Además están basadas en el teorema de Bayes, que como premisa indica que podemos actualizar nuestras creencias sobre un evento basados en nueva información\n"
   ]
  },
  {
   "cell_type": "markdown",
   "metadata": {},
   "source": [
    "<strong><font color=\"#54c38c\" style=\"font-size:20px;\"> Desarrollo </font></strong>\n",
    "\n",
    "---"
   ]
  },
  {
   "cell_type": "code",
   "execution_count": 491,
   "metadata": {},
   "outputs": [
    {
     "name": "stdout",
     "output_type": "stream",
     "text": [
      "['R', 'M', 'T', 'A']\n",
      "Nombre del nodo: R \n",
      "Tabla del nodo: data/ejemplo_clase/rain.csv\n",
      "Depende de: []\n",
      "Apunta a: ['M', 'T']\n",
      "\n",
      "Nombre del nodo: M \n",
      "Tabla del nodo: data/ejemplo_clase/maintenance.csv\n",
      "Depende de: ['R']\n",
      "Apunta a: ['T']\n",
      "\n",
      "Nombre del nodo: T \n",
      "Tabla del nodo: data/ejemplo_clase/train.csv\n",
      "Depende de: ['R', 'M']\n",
      "Apunta a: ['A']\n",
      "\n",
      "Nombre del nodo: A \n",
      "Tabla del nodo: data/ejemplo_clase/appointment.csv\n",
      "Depende de: ['T']\n",
      "Apunta a: []\n",
      "\n"
     ]
    }
   ],
   "source": [
    "# Recibimos el nombre de cada nodo y su ubicación desde un archivo json\n",
    "\n",
    "import json\n",
    "\n",
    "nodos: dict[str, str] = {}\n",
    "\n",
    "lista_de_nodos = []\n",
    "\n",
    "# with open(\"data/monty_hall/nodos.json\") as file:\n",
    "#     nodos = json.load(file)\n",
    "    \n",
    "with open(\"data/ejemplo_clase/nodos.json\") as file:\n",
    "    nodos = json.load(file)\n",
    "\n",
    "lista_de_nodos = list(nodos.keys())\n",
    "# Print the dictionary\n",
    "# intento de flex\n",
    "# print(list(map(lambda x: print(f\"nombre nodo: {x} \\n tabla del nodo: {nodos[x]}\"), nodos)))\n",
    "\n",
    "for nodo in nodos:\n",
    "    print(f\"Nombre del nodo: {nodo} \")\n",
    "    print(f\"Tabla del nodo: {nodos[nodo][0]}\")\n",
    "    print(f\"Depende de: {nodos[nodo][1]}\")\n",
    "    print(f\"Apunta a: {nodos[nodo][2]}\")\n",
    "    print()"
   ]
  },
  {
   "cell_type": "code",
   "execution_count": 482,
   "metadata": {},
   "outputs": [],
   "source": [
    "def crear_tuplas():\n",
    "    tuplas_aristas_grafo : list[tuple[str,str]] = []\n",
    "    for nodo in nodos:\n",
    "        for arista in nodos[nodo][2]:\n",
    "            tuplas_aristas_grafo.append((nodo, arista))    \n",
    "    return tuplas_aristas_grafo"
   ]
  },
  {
   "cell_type": "code",
   "execution_count": 483,
   "metadata": {},
   "outputs": [
    {
     "name": "stdout",
     "output_type": "stream",
     "text": [
      "[('R', 'M'), ('R', 'T'), ('M', 'T'), ('T', 'A')]\n"
     ]
    }
   ],
   "source": [
    "# Dependencia necesaria para crear la red Bayesiana\n",
    "from pgmpy.models import BayesianNetwork\n",
    "\n",
    "# Se indican las tuplas que componen a la red bayesiana con formato: (origen,destino) dentro de una lista:\n",
    "tupla_aristas_dirigidas = crear_tuplas()\n",
    "print(tupla_aristas_dirigidas)\n",
    "\n",
    "# Se crea el modelo con base a la tupla (no tocar xd)\n",
    "model = BayesianNetwork(tupla_aristas_dirigidas)"
   ]
  },
  {
   "cell_type": "code",
   "execution_count": 484,
   "metadata": {},
   "outputs": [],
   "source": [
    "import pandas as pd\n",
    "\n",
    "# Función que lee CSVs completos desde la cabecera\n",
    "\n",
    "def leer_csv(ruta_archivo) -> list[list[float]]:\n",
    "    df = pd.read_csv(ruta_archivo, header=None)\n",
    "    return df.values.tolist()\n"
   ]
  },
  {
   "cell_type": "code",
   "execution_count": 485,
   "metadata": {},
   "outputs": [
    {
     "data": {
      "text/plain": [
       "[<TabularCPD representing P(R:3) at 0x1e9c4a55550>,\n",
       " <TabularCPD representing P(M:2 | R:3) at 0x1e9c73dc6d0>,\n",
       " <TabularCPD representing P(T:2 | R:3, M:2) at 0x1e9c0fa7210>,\n",
       " <TabularCPD representing P(A:2 | T:2) at 0x1e9c4dec850>]"
      ]
     },
     "execution_count": 485,
     "metadata": {},
     "output_type": "execute_result"
    }
   ],
   "source": [
    "from pgmpy.factors.discrete import TabularCPD\n",
    "\n",
    "# Se crean las Tablas de Probabilidad Condicional (CPD -> Conditional Probability Distribution) para cada nodo\n",
    "# Lee los archivos y los carga como grafo\n",
    "\n",
    "for nodo in nodos:\n",
    "    \n",
    "    tabla_nodo = leer_csv(nodos[nodo][0])\n",
    "    # print(tabla_nodo)\n",
    "    \n",
    "    if len(nodos[nodo][1]) != 0:\n",
    "        # Tomo los nodos de los que existe dependencia\n",
    "        nodos_fuente: list[str] = []\n",
    "        \n",
    "        for nodo_fuente in nodos[nodo][1]:\n",
    "            nodos_fuente.append(\n",
    "                len(leer_csv(nodos[nodo_fuente][0]))\n",
    "            )\n",
    "            \n",
    "        # print(nodos[nodo][1])\n",
    "        # print(nodos_fuente)\n",
    "        \n",
    "        cpd = TabularCPD(\n",
    "            variable=nodo, \n",
    "            variable_card=len(tabla_nodo),\n",
    "            values= tabla_nodo, \n",
    "            evidence=nodos[nodo][1], \n",
    "            evidence_card=nodos_fuente\n",
    "            )\n",
    "        \n",
    "        model.add_cpds(cpd)\n",
    "    else:\n",
    "        cpd = TabularCPD(\n",
    "            variable=nodo, \n",
    "            variable_card=len(tabla_nodo),\n",
    "            values=tabla_nodo\n",
    "            )\n",
    "        model.add_cpds(cpd)\n",
    "        \n",
    "model.get_cpds()"
   ]
  },
  {
   "cell_type": "code",
   "execution_count": 486,
   "metadata": {},
   "outputs": [
    {
     "data": {
      "text/plain": [
       "True"
      ]
     },
     "execution_count": 486,
     "metadata": {},
     "output_type": "execute_result"
    }
   ],
   "source": [
    "# check_model check for the model structure and the associated CPD and returns True if everything is correct otherwise throws an exception\n",
    "model.check_model()"
   ]
  },
  {
   "cell_type": "code",
   "execution_count": 487,
   "metadata": {},
   "outputs": [
    {
     "data": {
      "image/png": "[encoded data removed]",
      "text/plain": [
       "<Figure size 640x480 with 1 Axes>"
      ]
     },
     "metadata": {},
     "output_type": "display_data"
    }
   ],
   "source": [
    "import networkx as nx\n",
    "import matplotlib.pyplot as plt\n",
    "\n",
    "# Creamos un grafo dirigido\n",
    "G = nx.DiGraph()\n",
    "\n",
    "# Generamos las tuplas a partir \n",
    "G.add_edges_from(tupla_aristas_dirigidas)\n",
    "\n",
    "# Dibujar el grafo\n",
    "nx.draw(G, with_labels=True, node_color=\"lightblue\", edge_color=\"gray\", node_size=2000, font_size=20)\n",
    "\n",
    "# Mostrar el grafo\n",
    "plt.box(False) \n",
    "plt.show()"
   ]
  },
  {
   "cell_type": "markdown",
   "metadata": {},
   "source": [
    "<strong><font color=\"#2e53b1\" style=\"font-size:30px;\"> Parte 2: Motor de inferencia por enumeración </font></strong>\n",
    "\n",
    "---\n",
    "\n",
    "**Contexto:**\n",
    "\n",
    "*Un motor de inferencia por enumeración es una técnica utilizada en redes bayesianas para calcular probabilidades exactas de eventos específicos. Este enfoque implica enumerar y sumar todas las posibles configuraciones de las variables de una red bayesiana que cumplen con las condiciones especificadas.*"
   ]
  },
  {
   "cell_type": "code",
   "execution_count": 488,
   "metadata": {},
   "outputs": [],
   "source": [
    "\"\"\"_summary_\n",
    "\n",
    "    Para nuestro código usamos la librería pgmpy que nos permite hacer todas las operaciones necesarias para trabajar con redes bayesianas. Y decidimos utilizar el método de BeliefPropagation\n",
    "    el cual no es más que un tipo de inferencia usada para calcular la probabilidad de un nodo dado un conjunto de valores de evidencia.\n",
    "    Sin embargo, también es posible utilizar VariableElimination, que es un método de inferencia que calcula la probabilidad de un nodo dado un conjunto de valores de evidencia también.\n",
    "    y para hacer esto sólo se debe cambiar la siguiente línea:\n",
    "    \n",
    "    infer = BeliefPropagation(model) -> infer = VariableElimination(model)\n",
    "\"\"\"\n",
    "\n",
    "# Motor de inferencia por enumeración\n",
    "# from pgmpy.inference import VariableElimination\n",
    "from pgmpy.inference import BeliefPropagation\n",
    "\n",
    "infer = BeliefPropagation(model)"
   ]
  },
  {
   "cell_type": "markdown",
   "metadata": {},
   "source": [
    "<strong><font color=\"#2e53b1\" style=\"font-size:30px;\"> Configuración del usuario al correr el programa </font></strong>"
   ]
  },
  {
   "cell_type": "code",
   "execution_count": null,
   "metadata": {},
   "outputs": [],
   "source": [
    "\n",
    "\"\"\"_summary_\n",
    "\n",
    "    Se muestra la lista de nodos para indicar el orden en el que se deben solicitar las probabilidades bayesianas.\n",
    "    Esto se explica a mayor profundidad en el siguiente bloque.\n",
    "    \n",
    "    -----------------------------------------------------------------------------------------------\n",
    "    \n",
    "    En caso de que la lista de nodos deba modificarse para la inferencia por enumeración (por variables ocultas)\n",
    "    simplemente se deben indicar en la siguiente línea las variables que quieren tomarse en cuenta:\n",
    "    \n",
    "    lista_de_nodos_especificos = [<nodo1>, <nodo2>, <nodo3>, ...]\n",
    "    \n",
    "    Así el programa tendrá en cuenta automáticamente las variables ocultas y las variables que se desean inferir.\n",
    "    (estas no se deben incluir en la lista)\n",
    "    \n",
    "    IMPORTANTE:\n",
    "    \n",
    "    La variable objetivo debe ir siempre en la primera casilla de la lista\n",
    "    \n",
    "    \n",
    "\"\"\"\n",
    "\n",
    "# Validación\n",
    "# print(lista_de_nodos)\n",
    "lista_de_nodos_especificos = []\n",
    "lista_de_nodos_especificos = [\"A\", \"R\", \"M\"]\n",
    "probabilidades_bayesianas = infer.query(lista_de_nodos_especificos, evidence={}, joint=True)\n",
    "\n",
    "# Posibles combinaciones\n",
    "# print(probabilidades_bayesianas)"
   ]
  },
  {
   "cell_type": "code",
   "execution_count": 517,
   "metadata": {},
   "outputs": [
    {
     "name": "stdout",
     "output_type": "stream",
     "text": [
      "0.81\n"
     ]
    }
   ],
   "source": [
    "\"\"\"\n",
    "    _summary_:\n",
    "    \n",
    "    En particular, con base al orden de los valores de la lista de nodos (R,M,T,A) se debe hacer la petición de probabilidades conjuntas\n",
    "    Para el ejemplo particular de la clase tenemos:\n",
    "    \n",
    "    R (rain) {\n",
    "        0: ninguna\n",
    "        1: suave\n",
    "        2: pesada\n",
    "    }\n",
    "    \n",
    "    M (Maintenance) {\n",
    "        0: sí\n",
    "        1: no\n",
    "    }\n",
    "    \n",
    "    T (Train) {\n",
    "        0: a tiempo\n",
    "        1: retrasado\n",
    "    }\n",
    "    \n",
    "    A (Appointment) {\n",
    "        0: tomado\n",
    "        1: perdido\n",
    "    }\n",
    "    \n",
    "    por esto un ejemplo para las probabilidades conjuntas sería:\n",
    "    \n",
    "    probabilidades_bayesianas.values[<R>][<M>][<T>][<A>]\n",
    "    \n",
    "    Que se puede organizar de la siguiente manera:\n",
    "    \n",
    "    posterior_p.values[1][1][1][1]\n",
    "    \n",
    "    Que puede traducirse como las probabilidades conjuntas de que:\n",
    "    \n",
    "    probabilidades_bayesianas.values[<R: suave>][<M: no>][<T: retrasado>][<A: perdido>]\n",
    "\n",
    "\"\"\"\n",
    "\n",
    "# Ejemplo básico con variables conjuntas\n",
    "# print(probabilidades_bayesianas.values[1][1][1][1])\n",
    "\n",
    "# Ejemplo con inferencia\n",
    "# print(probabilidades_bayesianas.values[0][1][1])"
   ]
  },
  {
   "cell_type": "code",
   "execution_count": null,
   "metadata": {},
   "outputs": [],
   "source": [
    "\"\"\"\n",
    "    NORMALIZACIÓN\n",
    "\"\"\"\n",
    "\n",
    "# El grafo ya se encargó de gestionar las dependencias, nuestro deber en este punto es simplemente indicar cuáles eventos queremos que sucedan:\n",
    "# Pero para que el algoritmo quede completo se deben indicar todos los estados finales posibles\n",
    "\n",
    "lista_estados_finales = []\n",
    "\n",
    "# Obtenemos la cardinalidad de la variable que buscamos\n",
    "variable_buscada = \"A\"\n",
    "cardinalidad_variable_objetivo = probabilidades_bayesianas.get_cardinality([variable_buscada])\n",
    "\n",
    "# print(cardinalidad_variable_objetivo[variable_buscada])\n",
    "\n",
    "# Iteramos con base a su cardinalidad la ubicación\n",
    "\n",
    "for i in range(cardinalidad_variable_objetivo[variable_buscada]):\n",
    "    lista_estados_finales.append(probabilidades_bayesianas.values[i][1][1])\n",
    "\n",
    "# print(lista_estados_finales)\n",
    "\n",
    "# Finalmente, garantizamos que la suma de las probabilidades sea igual a 1, de modo que:\n",
    "# x (estadofinal1) + x (estadofinal2) + ... + x (estadofinalN) = 1\n",
    "# Por lo cual debemos despejar x, si sabemos que:\n",
    "# x(estadofinal1 + estadofinal2 + ... + estadofinalN) = 1\n",
    "# Sólo debemos dividir 1 entre la suma de la probabilidad de los estados finales, así:\n",
    "\n",
    "incognita_de_normalizacion = 1 / sum(lista_estados_finales)"
   ]
  },
  {
   "cell_type": "markdown",
   "metadata": {},
   "source": []
  },
  {
   "cell_type": "code",
   "execution_count": 520,
   "metadata": {},
   "outputs": [
    {
     "name": "stdout",
     "output_type": "stream",
     "text": [
      "La probabilidad de que el evento A sea 0 es:           0.81\n",
      "La probabilidad de que el evento A sea 1 es:           0.19\n"
     ]
    }
   ],
   "source": [
    "\"\"\"_summary_\n",
    "\n",
    "Mostramos el resultado final\n",
    "\n",
    "\"\"\"\n",
    "\n",
    "\n",
    "for i in range(cardinalidad_variable_objetivo[variable_buscada]):\n",
    "    print(f\"La probabilidad de que el evento {variable_buscada} sea {i} es: \\\n",
    "          {probabilidades_bayesianas.values[i][1][1] * incognita_de_normalizacion}\")\n"
   ]
  }
 ],
 "metadata": {
  "kernelspec": {
   "display_name": "IA",
   "language": "python",
   "name": "python3"
  },
  "language_info": {
   "codemirror_mode": {
    "name": "ipython",
    "version": 3
   },
   "file_extension": ".py",
   "mimetype": "text/x-python",
   "name": "python",
   "nbconvert_exporter": "python",
   "pygments_lexer": "ipython3",
   "version": "3.11.5"
  }
 },
 "nbformat": 4,
 "nbformat_minor": 2
}
