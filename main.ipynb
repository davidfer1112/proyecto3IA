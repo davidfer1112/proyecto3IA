{
 "cells": [
  {
   "cell_type": "markdown",
   "metadata": {},
   "source": [
    "<center><strong><font color=\"#ec6969\" style=\"font-size:30px;\"> Proyecto 3 IA </font></strong></center>\n",
    "<br>\n",
    "<br>\n",
    "\n",
    "___\n",
    "<center>\n",
    "<br>\n",
    "Alejandro Uscátegui Torres <br> \n",
    "Javier Santana <br>\n",
    "David Pérez <br>\n",
    "Santiago Barajas\n",
    "</center>\n",
    "<br>\n",
    "\n",
    "___\n"
   ]
  },
  {
   "cell_type": "code",
   "execution_count": 180,
   "metadata": {},
   "outputs": [
    {
     "data": {
      "text/plain": [
       "'_summary_\\n    \\n    Sistema Operativo: Windows\\n    Nombre del nodo: UscateguiTorres\\n    Versión del Sistema Operativo: 10.0.22631\\n    Tipo de Máquina: AMD64\\n    Procesador: Intel64 Family 6 Model 167 Stepping 1, GenuineIntel\\n    Versión de Python: 3.11.5\\n    \\n'"
      ]
     },
     "execution_count": 180,
     "metadata": {},
     "output_type": "execute_result"
    }
   ],
   "source": [
    "# import platform\n",
    "\n",
    "# print(\"Sistema Operativo:\", platform.system())\n",
    "# print(\"Nombre del nodo:\", platform.node())\n",
    "# print(\"Versión del Sistema Operativo:\", platform.version())\n",
    "# print(\"Tipo de Máquina:\", platform.machine())\n",
    "# print(\"Procesador:\", platform.processor())\n",
    "# print(\"Versión de Python:\", platform.python_version())\n",
    "\n",
    "\"\"\"_summary_\n",
    "    \n",
    "    Sistema Operativo: Windows\n",
    "    Nombre del nodo: UscateguiTorres\n",
    "    Versión del Sistema Operativo: 10.0.22631\n",
    "    Tipo de Máquina: AMD64\n",
    "    Procesador: Intel64 Family 6 Model 167 Stepping 1, GenuineIntel\n",
    "    Versión de Python: 3.11.5\n",
    "    \n",
    "\"\"\""
   ]
  },
  {
   "cell_type": "markdown",
   "metadata": {},
   "source": [
    "<strong><font color=\"#2e53b1\" style=\"font-size:30px;\"> Parte 1: Modelo De Red Bayesiana </font></strong>\n",
    "\n",
    "---\n",
    "\n",
    "**Contexto:**\n",
    "\n",
    "*Una red Bayesiana es un modelo probabilístico que representa un conjunto de variables y sus dependencias condicionales a través de un gráfico dirigido acíclico (DAG). En este gráfico, los nodos representan variables y las aristas representan relaciones de dependencia directa entre estas variables. Cada nodo tiene una tabla de probabilidad condicional que cuantifica las probabilidades de la variable dadso sus padres en el gráfico.*\n",
    "\n",
    "*Las redes bayesianas permiten modelar la incertidumbre y pueden ser usadas para realizar inferencias sobre el valor de una variable basándose en el conocimiento de otras.*\n",
    "\n",
    "Son útiles en el contexto de clasificación, predicción, decisión y diagnosis. Además están basadas en el teorema de Bayes, que como premisa indica que podemos actualizar nuestras creencias sobre un evento basados en nueva información\n"
   ]
  },
  {
   "cell_type": "markdown",
   "metadata": {},
   "source": [
    "<strong><font color=\"#54c38c\" style=\"font-size:20px;\"> Desarrollo </font></strong>\n",
    "\n",
    "---"
   ]
  },
  {
   "cell_type": "code",
   "execution_count": 181,
   "metadata": {},
   "outputs": [
    {
     "name": "stdout",
     "output_type": "stream",
     "text": [
      "Nombre del nodo: D \n",
      "Tabla del nodo: data/ejemplo_final/difficulty.csv\n",
      "Depende de: []\n",
      "Apunta a: ['G']\n",
      "nombre estados: ['easy: 0', 'hard: 1']\n",
      "\n",
      "Nombre del nodo: I \n",
      "Tabla del nodo: data/ejemplo_final/intelligence.csv\n",
      "Depende de: []\n",
      "Apunta a: ['G', 'S']\n",
      "nombre estados: ['low: 0', 'high: 1']\n",
      "\n",
      "Nombre del nodo: E \n",
      "Tabla del nodo: data/ejemplo_final/ebrioxd.csv\n",
      "Depende de: []\n",
      "Apunta a: ['G']\n",
      "nombre estados: ['no: 0', 'yes: 1']\n",
      "\n",
      "Nombre del nodo: G \n",
      "Tabla del nodo: data/ejemplo_final/grade.csv\n",
      "Depende de: ['I', 'D', 'E']\n",
      "Apunta a: ['L']\n",
      "nombre estados: ['A: 0', 'B: 1', 'C: 3']\n",
      "\n",
      "Nombre del nodo: S \n",
      "Tabla del nodo: data/ejemplo_final/SAT.csv\n",
      "Depende de: ['I']\n",
      "Apunta a: []\n",
      "nombre estados: ['bad: 0', 'good: 1']\n",
      "\n",
      "Nombre del nodo: L \n",
      "Tabla del nodo: data/ejemplo_final/letter.csv\n",
      "Depende de: ['G']\n",
      "Apunta a: []\n",
      "nombre estados: ['bad: 0', 'good: 1']\n",
      "\n"
     ]
    }
   ],
   "source": [
    "# Recibimos el nombre de cada nodo y su ubicación desde un archivo json\n",
    "\n",
    "import json\n",
    "\n",
    "nodos: dict[str, str] = {}\n",
    "\n",
    "lista_de_nodos = []\n",
    "\n",
    "# with open(\"data/monty_hall/nodos.json\") as file:\n",
    "#     nodos = json.load(file)\n",
    "    \n",
    "# with open(\"data/ejemplo_clase/nodos.json\") as file:\n",
    "#     nodos = json.load(file)\n",
    "\n",
    "with open(\"data/ejemplo_final/nodos.json\") as file:\n",
    "    nodos = json.load(file)\n",
    "\n",
    "lista_de_nodos = list(nodos.keys())\n",
    "# Print the dictionary\n",
    "# intento de flex\n",
    "# print(list(map(lambda x: print(f\"nombre nodo: {x} \\n tabla del nodo: {nodos[x]}\"), nodos)))\n",
    "\n",
    "for nodo in nodos:\n",
    "    print(f\"Nombre del nodo: {nodo} \")\n",
    "    print(f\"Tabla del nodo: {nodos[nodo][0]}\")\n",
    "    print(f\"Depende de: {nodos[nodo][1]}\")\n",
    "    print(f\"Apunta a: {nodos[nodo][2]}\")\n",
    "    print(f\"nombre estados: {nodos[nodo][3]}\")\n",
    "    print()"
   ]
  },
  {
   "cell_type": "code",
   "execution_count": 182,
   "metadata": {},
   "outputs": [],
   "source": [
    "def crear_tuplas():\n",
    "    tuplas_aristas_grafo : list[tuple[str,str]] = []\n",
    "    for nodo in nodos:\n",
    "        for arista in nodos[nodo][2]:\n",
    "            tuplas_aristas_grafo.append((nodo, arista))    \n",
    "    return tuplas_aristas_grafo"
   ]
  },
  {
   "cell_type": "code",
   "execution_count": 183,
   "metadata": {},
   "outputs": [
    {
     "name": "stdout",
     "output_type": "stream",
     "text": [
      "[('D', 'G'), ('I', 'G'), ('I', 'S'), ('E', 'G'), ('G', 'L')]\n"
     ]
    }
   ],
   "source": [
    "# Dependencia necesaria para crear la red Bayesiana\n",
    "from pgmpy.models import BayesianNetwork\n",
    "\n",
    "# Se indican las tuplas que componen a la red bayesiana con formato: (origen,destino) dentro de una lista:\n",
    "tupla_aristas_dirigidas = crear_tuplas()\n",
    "print(tupla_aristas_dirigidas)\n",
    "\n",
    "# Se crea el modelo con base a la tupla (no tocar xd)\n",
    "model = BayesianNetwork(tupla_aristas_dirigidas)"
   ]
  },
  {
   "cell_type": "code",
   "execution_count": 184,
   "metadata": {},
   "outputs": [],
   "source": [
    "import pandas as pd\n",
    "\n",
    "# Función que lee CSVs completos desde la cabecera\n",
    "\n",
    "def leer_csv(ruta_archivo) -> list[list[float]]:\n",
    "    df = pd.read_csv(ruta_archivo, header=None)\n",
    "    return df.values.tolist()\n"
   ]
  },
  {
   "cell_type": "code",
   "execution_count": 185,
   "metadata": {},
   "outputs": [
    {
     "data": {
      "text/plain": [
       "[<TabularCPD representing P(D:2) at 0x29e91f5b610>,\n",
       " <TabularCPD representing P(I:2) at 0x29e91edc390>,\n",
       " <TabularCPD representing P(E:2) at 0x29e91f531d0>,\n",
       " <TabularCPD representing P(G:3 | I:2, D:2, E:2) at 0x29e91ee1ad0>,\n",
       " <TabularCPD representing P(S:2 | I:2) at 0x29e91f50fd0>,\n",
       " <TabularCPD representing P(L:2 | G:3) at 0x29e91f50650>]"
      ]
     },
     "execution_count": 185,
     "metadata": {},
     "output_type": "execute_result"
    }
   ],
   "source": [
    "\n",
    "from pgmpy.factors.discrete import TabularCPD\n",
    "\n",
    "# Se crean las Tablas de Probabilidad Condicional (CPD -> Conditional Probability Distribution) para cada nodo\n",
    "# Lee los archivos y los carga como grafo\n",
    "\n",
    "for nodo in nodos:\n",
    "    \n",
    "    tabla_nodo = leer_csv(nodos[nodo][0])\n",
    "    nodos_nombre_estado: dict[list[str]] = {}\n",
    "    nodos_nombre_estado[nodo] = nodos[nodo][3]\n",
    "    \n",
    "    # print(tabla_nodo)\n",
    "    \n",
    "    if len(nodos[nodo][1]) != 0:\n",
    "        # Tomo los nodos de los que existe dependencia\n",
    "        nodos_fuente: list[str] = []\n",
    "        \n",
    "        \n",
    "        for nodo_fuente in nodos[nodo][1]:\n",
    "            nodos_fuente.append(\n",
    "                len(leer_csv(nodos[nodo_fuente][0]))\n",
    "            )\n",
    "            nodos_nombre_estado[nodo_fuente] = nodos[nodo_fuente][3]\n",
    "            \n",
    "        # print(nodos[nodo][1])\n",
    "        # print(nodos_fuente)\n",
    "        \n",
    "        cpd = TabularCPD(\n",
    "            variable=nodo, \n",
    "            variable_card=len(tabla_nodo),\n",
    "            values= tabla_nodo, \n",
    "            evidence=nodos[nodo][1], \n",
    "            evidence_card=nodos_fuente,\n",
    "            state_names=nodos_nombre_estado\n",
    "            )\n",
    "        \n",
    "        model.add_cpds(cpd)\n",
    "        \n",
    "    else:\n",
    "        cpd = TabularCPD(\n",
    "            variable=nodo, \n",
    "            variable_card=len(tabla_nodo),\n",
    "            values=tabla_nodo,\n",
    "            state_names=nodos_nombre_estado\n",
    "            )\n",
    "        model.add_cpds(cpd)\n",
    "        \n",
    "model.get_cpds()"
   ]
  },
  {
   "cell_type": "code",
   "execution_count": 186,
   "metadata": {},
   "outputs": [
    {
     "data": {
      "text/plain": [
       "True"
      ]
     },
     "execution_count": 186,
     "metadata": {},
     "output_type": "execute_result"
    }
   ],
   "source": [
    "# check_model check for the model structure and the associated CPD and returns True if everything is correct otherwise throws an exception\n",
    "model.check_model()"
   ]
  },
  {
   "cell_type": "code",
   "execution_count": 187,
   "metadata": {},
   "outputs": [
    {
     "data": {
      "image/png": "[encoded data removed]",
      "text/plain": [
       "<Figure size 640x480 with 1 Axes>"
      ]
     },
     "metadata": {},
     "output_type": "display_data"
    }
   ],
   "source": [
    "import networkx as nx\n",
    "import matplotlib.pyplot as plt\n",
    "\n",
    "# Creamos un grafo dirigido\n",
    "G = nx.DiGraph()\n",
    "\n",
    "# Generamos las tuplas a partir \n",
    "G.add_edges_from(tupla_aristas_dirigidas)\n",
    "\n",
    "# Dibujar el grafo\n",
    "nx.draw(G, with_labels=True, node_color=\"lightblue\", edge_color=\"gray\", node_size=3000, font_size=10)\n",
    "\n",
    "# Mostrar el grafo\n",
    "plt.box(False) \n",
    "plt.show()"
   ]
  },
  {
   "cell_type": "code",
   "execution_count": 188,
   "metadata": {},
   "outputs": [
    {
     "name": "stdout",
     "output_type": "stream",
     "text": [
      "+------------+-----+\n",
      "| D(easy: 0) | 0.6 |\n",
      "+------------+-----+\n",
      "| D(hard: 1) | 0.4 |\n",
      "+------------+-----+\n",
      "+------------+-----+\n",
      "| I(low: 0)  | 0.7 |\n",
      "+------------+-----+\n",
      "| I(high: 1) | 0.3 |\n",
      "+------------+-----+\n",
      "+-----------+------+\n",
      "| E(no: 0)  | 0.99 |\n",
      "+-----------+------+\n",
      "| E(yes: 1) | 0.01 |\n",
      "+-----------+------+\n",
      "+---------+------------+------------+-----+------------+------------+\n",
      "| I       | I(low: 0)  | I(low: 0)  | ... | I(high: 1) | I(high: 1) |\n",
      "+---------+------------+------------+-----+------------+------------+\n",
      "| D       | D(easy: 0) | D(easy: 0) | ... | D(hard: 1) | D(hard: 1) |\n",
      "+---------+------------+------------+-----+------------+------------+\n",
      "| E       | E(no: 0)   | E(yes: 1)  | ... | E(no: 0)   | E(yes: 1)  |\n",
      "+---------+------------+------------+-----+------------+------------+\n",
      "| G(A: 0) | 0.1        | 0.05       | ... | 0.7        | 0.6        |\n",
      "+---------+------------+------------+-----+------------+------------+\n",
      "| G(B: 1) | 0.1        | 0.05       | ... | 0.2        | 0.3        |\n",
      "+---------+------------+------------+-----+------------+------------+\n",
      "| G(C: 3) | 0.8        | 0.9        | ... | 0.1        | 0.1        |\n",
      "+---------+------------+------------+-----+------------+------------+\n",
      "+------------+-----------+------------+\n",
      "| I          | I(low: 0) | I(high: 1) |\n",
      "+------------+-----------+------------+\n",
      "| S(bad: 0)  | 0.95      | 0.2        |\n",
      "+------------+-----------+------------+\n",
      "| S(good: 1) | 0.05      | 0.8        |\n",
      "+------------+-----------+------------+\n",
      "+------------+---------+---------+---------+\n",
      "| G          | G(A: 0) | G(B: 1) | G(C: 3) |\n",
      "+------------+---------+---------+---------+\n",
      "| L(bad: 0)  | 0.1     | 0.4     | 0.99    |\n",
      "+------------+---------+---------+---------+\n",
      "| L(good: 1) | 0.9     | 0.6     | 0.01    |\n",
      "+------------+---------+---------+---------+\n"
     ]
    }
   ],
   "source": [
    "# También es posible ver cada una de las tablas si el usuario desea comprobar que tengan sentido con un método visual\n",
    "# y en caso de que el check permita que sucedan cosas raras:\n",
    "\n",
    "for cpd in model.get_cpds():\n",
    "    print(cpd)\n",
    "    \n",
    "# print(model.get_cpds('T').values[0][2][1])"
   ]
  },
  {
   "cell_type": "markdown",
   "metadata": {},
   "source": [
    "<strong><font color=\"#2e53b1\" style=\"font-size:30px;\"> Parte 2: Motor de inferencia por enumeración </font></strong>\n",
    "\n",
    "---\n",
    "\n",
    "**Contexto:**\n",
    "\n",
    "*Un motor de inferencia por enumeración es una técnica utilizada en redes bayesianas para calcular probabilidades exactas de eventos específicos. Este enfoque implica enumerar y sumar todas las posibles configuraciones de las variables de una red bayesiana que cumplen con las condiciones especificadas.*"
   ]
  },
  {
   "cell_type": "code",
   "execution_count": 189,
   "metadata": {},
   "outputs": [],
   "source": [
    "\"\"\"_summary_\n",
    "\n",
    "    Para nuestro código usamos la librería pgmpy que nos permite hacer todas las operaciones necesarias para trabajar con redes bayesianas. Y decidimos utilizar el método de BeliefPropagation\n",
    "    el cual no es más que un tipo de inferencia usada para calcular la probabilidad de un nodo dado un conjunto de valores de evidencia.\n",
    "    Sin embargo, también es posible utilizar VariableElimination, que es un método de inferencia que calcula la probabilidad de un nodo dado un conjunto de valores de evidencia también.\n",
    "    y para hacer esto sólo se debe cambiar la siguiente línea:\n",
    "    \n",
    "    infer = BeliefPropagation(model) -> infer = VariableElimination(model)\n",
    "\"\"\"\n",
    "\n",
    "# Motor de inferencia por enumeración\n",
    "# from pgmpy.inference import VariableElimination\n",
    "from pgmpy.inference import BeliefPropagation\n",
    "from pgmpy.inference import VariableElimination\n",
    "\n",
    "infer = VariableElimination(model)"
   ]
  },
  {
   "cell_type": "code",
   "execution_count": 190,
   "metadata": {},
   "outputs": [],
   "source": [
    "# model.active_trail_nodes('D', observed='G')"
   ]
  },
  {
   "cell_type": "markdown",
   "metadata": {},
   "source": [
    "<strong><font color=\"#2e53b1\" style=\"font-size:30px;\"> Configuración del usuario al correr el programa </font></strong>"
   ]
  },
  {
   "cell_type": "code",
   "execution_count": 191,
   "metadata": {},
   "outputs": [
    {
     "name": "stdout",
     "output_type": "stream",
     "text": [
      "+---------+----------+\n",
      "| G       |   phi(G) |\n",
      "+=========+==========+\n",
      "| G(A: 0) |   0.1870 |\n",
      "+---------+----------+\n",
      "| G(B: 1) |   0.0970 |\n",
      "+---------+----------+\n",
      "| G(C: 3) |   0.7160 |\n",
      "+---------+----------+\n"
     ]
    }
   ],
   "source": [
    "\n",
    "\"\"\"_summary_\n",
    "\n",
    "    Método automatizado: La librería se encarga de generar la solución para cada caso dada la evidencia\n",
    "    En nuestro caso, sirve para comprobar que los resultados que tengamos son correctos\n",
    "    \n",
    "\"\"\"\n",
    "\n",
    "# Validación\n",
    "\n",
    "# Caso general\n",
    "# print(lista_de_nodos)\n",
    "# probabilidades_bayesianas = infer.query(lista_de_nodos, evidence={}, joint=True)\n",
    "\n",
    "# Caso particular\n",
    "# Para nuestro ejemplo inventado, queremos saber si la persona logró el GRADE de un examen difícil y siendo inteligente\n",
    "\n",
    "lista_de_nodos_especificos = ['G']\n",
    "probabilidades_bayesianas = infer.query(lista_de_nodos_especificos, evidence={'D': 'hard: 1', 'E': 'yes: 1'}, joint=True)\n",
    "\n",
    "# Posibles combinaciones\n",
    "print(probabilidades_bayesianas)"
   ]
  },
  {
   "cell_type": "code",
   "execution_count": 192,
   "metadata": {},
   "outputs": [],
   "source": [
    "\"\"\"\n",
    "    _summary_:\n",
    "    \n",
    "    Método manual:\n",
    "    \n",
    "    1. Se indica la variable objetivo\n",
    "    2. Se indican las variables evidencia\n",
    "    3. Se buscan las variables ocultas\n",
    "    4. Se realiza la normalización\n",
    "\n",
    "\"\"\"\n",
    "# Pasos 1 y 2\n",
    "\n",
    "variable_objetivo = 'G'\n",
    "variable_evidencia = {'D': 1, 'E': 1}\n",
    "nodos_iniciales = ['G', 'D', 'E']\n",
    "\n",
    "formula_inicial = f\"Fórmula inicial: P ( {variable_objetivo} | {variable_evidencia})\"\n",
    "formula_derivada_original = f\"Fórmula derivada: α P({' ∧ '.join(nodos_iniciales)})\"\n",
    "\n",
    "\n",
    "\n",
    "# Ejemplo básico con variables conjuntas\n",
    "# print(probabilidades_bayesianas.values[1][1][1][1])\n",
    "\n",
    "# Ejemplo con inferencia\n",
    "# print(probabilidades_bayesianas.values[0][1][1])"
   ]
  },
  {
   "cell_type": "code",
   "execution_count": 193,
   "metadata": {},
   "outputs": [],
   "source": [
    "from collections import deque\n",
    "\n",
    "def encontrar_dependencias(target, nodos_funcion=nodos):\n",
    "    # Se buscan las variables ocultas, con base a las dependencias\n",
    "    dependencias = set()\n",
    "    stack = [target]\n",
    "    \n",
    "    while stack:\n",
    "        actual = stack.pop()\n",
    "        # Se revisan los nodos padres del nodo actual\n",
    "        for parent in nodos_funcion[actual][1]:\n",
    "            # Si el nodo actual tiene un padre, y no está en la variable de dependencias\n",
    "            # se agregará a la pila y al conjunto de dependencias\n",
    "            if parent not in dependencias:\n",
    "                dependencias.add(parent)\n",
    "                stack.append(parent)\n",
    "    \n",
    "    return dependencias\n",
    "\n",
    "def traverse_independent_to_target(independents, target, nodos_funcion=nodos):\n",
    "    queue = deque(independents)\n",
    "    visited = set()\n",
    "    result = []\n",
    "    \n",
    "    while queue:\n",
    "        current = queue.popleft()\n",
    "        if current not in visited:\n",
    "            visited.add(current)\n",
    "            result.append(current)\n",
    "            for child in nodos_funcion[current][2]:\n",
    "                queue.append(child)\n",
    "    \n",
    "    if target in result:\n",
    "        target_index = result.index(target)\n",
    "        return result[:target_index + 1]\n",
    "    else:\n",
    "        return None\n",
    "\n",
    "def valor_recorrido(nodos_recorrido, valores_evidencia,nodos_funcion=nodos):\n",
    "    # Se busca el valor de la probabilidad conjunta\n",
    "    probabilidad_conjunta = 1\n",
    "    for nodo in nodos_recorrido:\n",
    "        padres = nodos_funcion[nodo][1]\n",
    "        if padres == []:\n",
    "            probabilidad_conjunta *= model.get_cpds(nodo).values[valores_evidencia[nodo]]\n",
    "            print(f\"P( {nodo} = {valores_evidencia[nodo]} )\", end=\" \")\n",
    "        else:\n",
    "            # Con base a los padres, accedo al nodo\n",
    "            aux = model.get_cpds(nodo).values[valores_evidencia[nodo]]\n",
    "            for padre in padres:\n",
    "                # print(padre)\n",
    "                aux = aux[valores_evidencia[padre]] \n",
    "            # print(aux)\n",
    "            print(f\"P( {nodo} = {valores_evidencia[nodo]} | {', '.join(padres)} )\", end=\" \")\n",
    "            probabilidad_conjunta *= aux\n",
    "    print('+', end=\" \")\n",
    "    return probabilidad_conjunta\n",
    "\n",
    "def normalizacion(lista_para_operar):\n",
    "    # Se realiza la normalización\n",
    "    suma = sum(lista_para_operar)\n",
    "    alfa = 1/suma\n",
    "    print(f'la suma es = {suma}')\n",
    "    print(f'alfa es = {alfa}')\n",
    "    resultado = list(map(lambda x: x * alfa, lista_para_operar))\n",
    "    return resultado"
   ]
  },
  {
   "cell_type": "code",
   "execution_count": 194,
   "metadata": {},
   "outputs": [
    {
     "name": "stdout",
     "output_type": "stream",
     "text": [
      "['I']\n"
     ]
    }
   ],
   "source": [
    "# Generamos los nodos invisibles\n",
    "\n",
    "dependencias = list(encontrar_dependencias(variable_objetivo))\n",
    "\n",
    "nodos_invisibles = list(set(dependencias)\\\n",
    "    .symmetric_difference(set(nodos_iniciales))\\\n",
    "    .symmetric_difference(set(variable_objetivo)))\n",
    "\n",
    "print(nodos_invisibles)"
   ]
  },
  {
   "cell_type": "code",
   "execution_count": 195,
   "metadata": {},
   "outputs": [],
   "source": [
    "# BLOQUE DE TRAZABILIDAD\n",
    "\n",
    "for dependencia in dependencias:\n",
    "    if dependencia not in nodos_iniciales:\n",
    "        nodos_iniciales.append(dependencia)\n",
    "\n",
    "# Formula para traza\n",
    "formula_derivada_variables_ocultas = f\"Fórmula derivada: α ∑ P({' ∧ '.join(nodos_iniciales)})\"\n"
   ]
  },
  {
   "cell_type": "code",
   "execution_count": 196,
   "metadata": {},
   "outputs": [],
   "source": [
    "# Se genera el recorrido que se va a realizar\n",
    "\n",
    "# Una vez conocidas todas las dependencias, revisamos que nodos son totalmente independientes\n",
    "nodos_independientes = []\n",
    "for dependencia in dependencias:\n",
    "    if nodos[dependencia][1] == []:\n",
    "        nodos_independientes.append(dependencia)\n",
    "\n",
    "# Generamos el recorrido desde los nodos independientes hasta el objetivo\n",
    "recorrido = traverse_independent_to_target(nodos_independientes, variable_objetivo)"
   ]
  },
  {
   "cell_type": "code",
   "execution_count": 197,
   "metadata": {},
   "outputs": [
    {
     "name": "stdout",
     "output_type": "stream",
     "text": [
      "P( E = 1 ) P( D = 1 ) P( I = 0 ) P( G = 0 | I, D, E ) + P( E = 1 ) P( D = 1 ) P( I = 1 ) P( G = 0 | I, D, E ) +  = 0.000748\n",
      "P( E = 1 ) P( D = 1 ) P( I = 0 ) P( G = 1 | I, D, E ) + P( E = 1 ) P( D = 1 ) P( I = 1 ) P( G = 1 | I, D, E ) +  = 0.00038799999999999994\n",
      "P( E = 1 ) P( D = 1 ) P( I = 0 ) P( G = 2 | I, D, E ) + P( E = 1 ) P( D = 1 ) P( I = 1 ) P( G = 2 | I, D, E ) +  = 0.002864\n"
     ]
    }
   ],
   "source": [
    "# El recorrido puede hacerse con dos bucles:\n",
    "# el primer bucle recorre revisa los estados de la variable objetivo para hacer los cálculos\n",
    "# De modo que un estado es fijo en cada recorrido\n",
    "# el segundo bucle tiene en cuenta las variables invisibles, y también les genera un estado fijo\n",
    "# en cada recorrido\n",
    "# el tercer bucle usa los valores de las variables ya existentes\n",
    "\n",
    "# print(model.get_cpds(variable_objetivo).variable_card)\n",
    "\n",
    "n_estados_var_objetivo = model.get_cpds(variable_objetivo).variable_card\n",
    "\n",
    "\n",
    "\n",
    "resultados_estados = []\n",
    "for estado_var_objetivo in range(n_estados_var_objetivo):\n",
    "    # Puedo ejecutar estado de la variable objetivo\n",
    "    # print(estado)\n",
    "    \n",
    "    # Resultados finales\n",
    "    resultado_estado = 0\n",
    "    \n",
    "    # Accedo a los nodos invisibles\n",
    "    for nodo_invicible in nodos_invisibles:\n",
    "        # Accedo a los estados de los nodos invisibles\n",
    "        # print(nodos_invisibles)\n",
    "        for estado_var_invisible in range(model.get_cpds(nodo_invicible).variable_card):\n",
    "            # Puedo ejecutar estado de la variable invisible\n",
    "            # print(estado_var_invisible)\n",
    "            variable_evidencia[variable_objetivo] = estado_var_objetivo\n",
    "            variable_evidencia[nodo_invicible] = estado_var_invisible\n",
    "            # Obtención del porcentaje del primer estado\n",
    "            resultado_estado += valor_recorrido(recorrido, variable_evidencia)\n",
    "        print(f\" = {resultado_estado}\")          \n",
    "        \n",
    "        # En este ciclo se obtiene el resultado de la iteración de var_inde\n",
    "        resultados_estados.append(resultado_estado)\n",
    " \n"
   ]
  },
  {
   "cell_type": "code",
   "execution_count": 198,
   "metadata": {},
   "outputs": [
    {
     "name": "stdout",
     "output_type": "stream",
     "text": [
      "formulas aplicadas ->\n",
      "formula inicial: Fórmula inicial: P ( G | {'D': 1, 'E': 1})\n",
      "formula derivada: Fórmula derivada: α P(G ∧ D ∧ E)\n",
      "formula final: Fórmula derivada: α ∑ P(G ∧ D ∧ E ∧ I)\n",
      "\n",
      "\n",
      "=============================================\n",
      "\n",
      "\n",
      "resultados prenormalización: [0.000748, 0.00038799999999999994, 0.002864]\n",
      "la suma es = 0.004\n",
      "alfa es = 250.0\n",
      "resultados normalizados: [0.187, 0.09699999999999999, 0.716]\n"
     ]
    }
   ],
   "source": [
    "# N O R M A L I Z A C I Ó N\n",
    "\n",
    "print(f\"formulas aplicadas ->\")\n",
    "print(f\"formula inicial: {formula_inicial}\")\n",
    "print(f\"formula derivada: {formula_derivada_original}\")\n",
    "print(f\"formula final: {formula_derivada_variables_ocultas}\\n\\n\")\n",
    "\n",
    "print(\"=============================================\\n\\n\")\n",
    "\n",
    "# Resultados prenormalización\n",
    "print(f\"resultados prenormalización: {resultados_estados}\")\n",
    "\n",
    "# Resultados Normalizados\n",
    "\n",
    "print(f\"resultados normalizados: {normalizacion(resultados_estados)}\")\n"
   ]
  }
 ],
 "metadata": {
  "kernelspec": {
   "display_name": "Python 3",
   "language": "python",
   "name": "python3"
  },
  "language_info": {
   "codemirror_mode": {
    "name": "ipython",
    "version": 3
   },
   "file_extension": ".py",
   "mimetype": "text/x-python",
   "name": "python",
   "nbconvert_exporter": "python",
   "pygments_lexer": "ipython3",
   "version": "3.11.5"
  },
  "polyglot_notebook": {
   "kernelInfo": {
    "defaultKernelName": "csharp",
    "items": [
     {
      "aliases": [],
      "name": "csharp"
     }
    ]
   }
  }
 },
 "nbformat": 4,
 "nbformat_minor": 2
}
