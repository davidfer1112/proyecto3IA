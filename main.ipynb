{
 "cells": [
  {
   "cell_type": "markdown",
   "metadata": {},
   "source": [
    "<center><strong><font color=\"#ec6969\" style=\"font-size:30px;\"> Proyecto 3 IA </font></strong></center>\n",
    "<br>\n",
    "<br>\n",
    "\n",
    "___\n",
    "<center>\n",
    "<br>\n",
    "Alejandro Uscátegui Torres <br> \n",
    "Javier Santana <br>\n",
    "David Pérez <br>\n",
    "Santiago Barajas\n",
    "</center>\n",
    "<br>\n",
    "\n",
    "___\n"
   ]
  },
  {
   "cell_type": "code",
   "execution_count": 56,
   "metadata": {},
   "outputs": [
    {
     "data": {
      "text/plain": [
       "'_summary_\\n    \\n    Sistema Operativo: Windows\\n    Nombre del nodo: UscateguiTorres\\n    Versión del Sistema Operativo: 10.0.22631\\n    Tipo de Máquina: AMD64\\n    Procesador: Intel64 Family 6 Model 167 Stepping 1, GenuineIntel\\n    Versión de Python: 3.11.5\\n    \\n'"
      ]
     },
     "execution_count": 56,
     "metadata": {},
     "output_type": "execute_result"
    }
   ],
   "source": [
    "# import platform\n",
    "\n",
    "# print(\"Sistema Operativo:\", platform.system())\n",
    "# print(\"Nombre del nodo:\", platform.node())\n",
    "# print(\"Versión del Sistema Operativo:\", platform.version())\n",
    "# print(\"Tipo de Máquina:\", platform.machine())\n",
    "# print(\"Procesador:\", platform.processor())\n",
    "# print(\"Versión de Python:\", platform.python_version())\n",
    "\n",
    "\"\"\"_summary_\n",
    "    \n",
    "    Sistema Operativo: Windows\n",
    "    Nombre del nodo: UscateguiTorres\n",
    "    Versión del Sistema Operativo: 10.0.22631\n",
    "    Tipo de Máquina: AMD64\n",
    "    Procesador: Intel64 Family 6 Model 167 Stepping 1, GenuineIntel\n",
    "    Versión de Python: 3.11.5\n",
    "    \n",
    "\"\"\""
   ]
  },
  {
   "cell_type": "markdown",
   "metadata": {},
   "source": [
    "<strong><font color=\"#2e53b1\" style=\"font-size:30px;\"> Parte 1: Modelo De Red Bayesiana </font></strong>\n",
    "\n",
    "---\n",
    "\n",
    "**Contexto:**\n",
    "\n",
    "*Una red Bayesiana es un modelo probabilístico que representa un conjunto de variables y sus dependencias condicionales a través de un gráfico dirigido acíclico (DAG). En este gráfico, los nodos representan variables y las aristas representan relaciones de dependencia directa entre estas variables. Cada nodo tiene una tabla de probabilidad condicional que cuantifica las probabilidades de la variable dadso sus padres en el gráfico.*\n",
    "\n",
    "*Las redes bayesianas permiten modelar la incertidumbre y pueden ser usadas para realizar inferencias sobre el valor de una variable basándose en el conocimiento de otras.*\n",
    "\n",
    "Son útiles en el contexto de clasificación, predicción, decisión y diagnosis. Además están basadas en el teorema de Bayes, que como premisa indica que podemos actualizar nuestras creencias sobre un evento basados en nueva información\n"
   ]
  },
  {
   "cell_type": "markdown",
   "metadata": {},
   "source": [
    "<strong><font color=\"#54c38c\" style=\"font-size:20px;\"> Desarrollo </font></strong>\n",
    "\n",
    "---"
   ]
  },
  {
   "cell_type": "code",
   "execution_count": 57,
   "metadata": {},
   "outputs": [
    {
     "name": "stdout",
     "output_type": "stream",
     "text": [
      "Nombre del nodo: R \n",
      "Tabla del nodo: data/ejemplo_clase/rain.csv\n",
      "Depende de: []\n",
      "Apunta a: ['M', 'T']\n",
      "nombre estados: ['none: 0', 'light: 1', 'heavy: 2']\n",
      "\n",
      "Nombre del nodo: M \n",
      "Tabla del nodo: data/ejemplo_clase/maintenance.csv\n",
      "Depende de: ['R']\n",
      "Apunta a: ['T']\n",
      "nombre estados: ['yes: 0', 'no: 1']\n",
      "\n",
      "Nombre del nodo: T \n",
      "Tabla del nodo: data/ejemplo_clase/train.csv\n",
      "Depende de: ['R', 'M']\n",
      "Apunta a: ['A']\n",
      "nombre estados: ['on time: 0', 'delayed: 1']\n",
      "\n",
      "Nombre del nodo: A \n",
      "Tabla del nodo: data/ejemplo_clase/appointment.csv\n",
      "Depende de: ['T']\n",
      "Apunta a: []\n",
      "nombre estados: ['attend: 0', 'miss: 1']\n",
      "\n"
     ]
    }
   ],
   "source": [
    "# Recibimos el nombre de cada nodo y su ubicación desde un archivo json\n",
    "\n",
    "import json\n",
    "\n",
    "nodos: dict[str, str] = {}\n",
    "\n",
    "lista_de_nodos = []\n",
    "\n",
    "# with open(\"data/monty_hall/nodos.json\") as file:\n",
    "#     nodos = json.load(file)\n",
    "    \n",
    "with open(\"data/ejemplo_clase/nodos.json\") as file:\n",
    "    nodos = json.load(file)\n",
    "\n",
    "# with open(\"data/ejemplo_final/nodos.json\") as file:\n",
    "#     nodos = json.load(file)\n",
    "\n",
    "lista_de_nodos = list(nodos.keys())\n",
    "# Print the dictionary\n",
    "# intento de flex\n",
    "# print(list(map(lambda x: print(f\"nombre nodo: {x} \\n tabla del nodo: {nodos[x]}\"), nodos)))\n",
    "\n",
    "for nodo in nodos:\n",
    "    print(f\"Nombre del nodo: {nodo} \")\n",
    "    print(f\"Tabla del nodo: {nodos[nodo][0]}\")\n",
    "    print(f\"Depende de: {nodos[nodo][1]}\")\n",
    "    print(f\"Apunta a: {nodos[nodo][2]}\")\n",
    "    print(f\"nombre estados: {nodos[nodo][3]}\")\n",
    "    print()"
   ]
  },
  {
   "cell_type": "code",
   "execution_count": 58,
   "metadata": {},
   "outputs": [],
   "source": [
    "def crear_tuplas():\n",
    "    tuplas_aristas_grafo : list[tuple[str,str]] = []\n",
    "    for nodo in nodos:\n",
    "        for arista in nodos[nodo][2]:\n",
    "            tuplas_aristas_grafo.append((nodo, arista))    \n",
    "    return tuplas_aristas_grafo"
   ]
  },
  {
   "cell_type": "code",
   "execution_count": 59,
   "metadata": {},
   "outputs": [
    {
     "name": "stdout",
     "output_type": "stream",
     "text": [
      "[('R', 'M'), ('R', 'T'), ('M', 'T'), ('T', 'A')]\n"
     ]
    }
   ],
   "source": [
    "# Dependencia necesaria para crear la red Bayesiana\n",
    "from pgmpy.models import BayesianNetwork\n",
    "\n",
    "# Se indican las tuplas que componen a la red bayesiana con formato: (origen,destino) dentro de una lista:\n",
    "tupla_aristas_dirigidas = crear_tuplas()\n",
    "print(tupla_aristas_dirigidas)\n",
    "\n",
    "# Se crea el modelo con base a la tupla (no tocar xd)\n",
    "model = BayesianNetwork(tupla_aristas_dirigidas)"
   ]
  },
  {
   "cell_type": "code",
   "execution_count": 60,
   "metadata": {},
   "outputs": [],
   "source": [
    "import pandas as pd\n",
    "\n",
    "# Función que lee CSVs completos desde la cabecera\n",
    "\n",
    "def leer_csv(ruta_archivo) -> list[list[float]]:\n",
    "    df = pd.read_csv(ruta_archivo, header=None)\n",
    "    return df.values.tolist()\n"
   ]
  },
  {
   "cell_type": "code",
   "execution_count": 61,
   "metadata": {},
   "outputs": [
    {
     "data": {
      "text/plain": [
       "[<TabularCPD representing P(R:3) at 0x1868edb3d10>,\n",
       " <TabularCPD representing P(M:2 | R:3) at 0x1868fd81190>,\n",
       " <TabularCPD representing P(T:2 | R:3, M:2) at 0x1868fbff810>,\n",
       " <TabularCPD representing P(A:2 | T:2) at 0x1868f7abbd0>]"
      ]
     },
     "execution_count": 61,
     "metadata": {},
     "output_type": "execute_result"
    }
   ],
   "source": [
    "\n",
    "from pgmpy.factors.discrete import TabularCPD\n",
    "\n",
    "# Se crean las Tablas de Probabilidad Condicional (CPD -> Conditional Probability Distribution) para cada nodo\n",
    "# Lee los archivos y los carga como grafo\n",
    "\n",
    "for nodo in nodos:\n",
    "    \n",
    "    tabla_nodo = leer_csv(nodos[nodo][0])\n",
    "    nodos_nombre_estado: dict[list[str]] = {}\n",
    "    nodos_nombre_estado[nodo] = nodos[nodo][3]\n",
    "    \n",
    "    # print(tabla_nodo)\n",
    "    \n",
    "    if len(nodos[nodo][1]) != 0:\n",
    "        # Tomo los nodos de los que existe dependencia\n",
    "        nodos_fuente: list[str] = []\n",
    "        \n",
    "        \n",
    "        for nodo_fuente in nodos[nodo][1]:\n",
    "            nodos_fuente.append(\n",
    "                len(leer_csv(nodos[nodo_fuente][0]))\n",
    "            )\n",
    "            nodos_nombre_estado[nodo_fuente] = nodos[nodo_fuente][3]\n",
    "            \n",
    "        # print(nodos[nodo][1])\n",
    "        # print(nodos_fuente)\n",
    "        \n",
    "        cpd = TabularCPD(\n",
    "            variable=nodo, \n",
    "            variable_card=len(tabla_nodo),\n",
    "            values= tabla_nodo, \n",
    "            evidence=nodos[nodo][1], \n",
    "            evidence_card=nodos_fuente,\n",
    "            state_names=nodos_nombre_estado\n",
    "            )\n",
    "        \n",
    "        model.add_cpds(cpd)\n",
    "        \n",
    "    else:\n",
    "        cpd = TabularCPD(\n",
    "            variable=nodo, \n",
    "            variable_card=len(tabla_nodo),\n",
    "            values=tabla_nodo,\n",
    "            state_names=nodos_nombre_estado\n",
    "            )\n",
    "        model.add_cpds(cpd)\n",
    "        \n",
    "model.get_cpds()"
   ]
  },
  {
   "cell_type": "code",
   "execution_count": 62,
   "metadata": {},
   "outputs": [
    {
     "data": {
      "text/plain": [
       "True"
      ]
     },
     "execution_count": 62,
     "metadata": {},
     "output_type": "execute_result"
    }
   ],
   "source": [
    "# check_model check for the model structure and the associated CPD and returns True if everything is correct otherwise throws an exception\n",
    "model.check_model()"
   ]
  },
  {
   "cell_type": "code",
   "execution_count": 63,
   "metadata": {},
   "outputs": [
    {
     "data": {
      "image/png": "[encoded data removed]",
      "text/plain": [
       "<Figure size 640x480 with 1 Axes>"
      ]
     },
     "metadata": {},
     "output_type": "display_data"
    }
   ],
   "source": [
    "import networkx as nx\n",
    "import matplotlib.pyplot as plt\n",
    "\n",
    "# Creamos un grafo dirigido\n",
    "G = nx.DiGraph()\n",
    "\n",
    "# Generamos las tuplas a partir \n",
    "G.add_edges_from(tupla_aristas_dirigidas)\n",
    "\n",
    "# Dibujar el grafo\n",
    "nx.draw(G, with_labels=True, node_color=\"lightblue\", edge_color=\"gray\", node_size=3000, font_size=10)\n",
    "\n",
    "# Mostrar el grafo\n",
    "plt.box(False) \n",
    "plt.show()"
   ]
  },
  {
   "cell_type": "code",
   "execution_count": 64,
   "metadata": {},
   "outputs": [
    {
     "name": "stdout",
     "output_type": "stream",
     "text": [
      "+-------------+-----+\n",
      "| R(none: 0)  | 0.7 |\n",
      "+-------------+-----+\n",
      "| R(light: 1) | 0.2 |\n",
      "+-------------+-----+\n",
      "| R(heavy: 2) | 0.1 |\n",
      "+-------------+-----+\n",
      "+-----------+------------+-------------+-------------+\n",
      "| R         | R(none: 0) | R(light: 1) | R(heavy: 2) |\n",
      "+-----------+------------+-------------+-------------+\n",
      "| M(yes: 0) | 0.4        | 0.2         | 0.1         |\n",
      "+-----------+------------+-------------+-------------+\n",
      "| M(no: 1)  | 0.6        | 0.8         | 0.9         |\n",
      "+-----------+------------+-------------+-------------+\n",
      "+---------------+------------+-----+-------------+-------------+\n",
      "| R             | R(none: 0) | ... | R(heavy: 2) | R(heavy: 2) |\n",
      "+---------------+------------+-----+-------------+-------------+\n",
      "| M             | M(yes: 0)  | ... | M(yes: 0)   | M(no: 1)    |\n",
      "+---------------+------------+-----+-------------+-------------+\n",
      "| T(on time: 0) | 0.8        | ... | 0.4         | 0.5         |\n",
      "+---------------+------------+-----+-------------+-------------+\n",
      "| T(delayed: 1) | 0.2        | ... | 0.6         | 0.5         |\n",
      "+---------------+------------+-----+-------------+-------------+\n",
      "+--------------+---------------+---------------+\n",
      "| T            | T(on time: 0) | T(delayed: 1) |\n",
      "+--------------+---------------+---------------+\n",
      "| A(attend: 0) | 0.9           | 0.6           |\n",
      "+--------------+---------------+---------------+\n",
      "| A(miss: 1)   | 0.1           | 0.4           |\n",
      "+--------------+---------------+---------------+\n",
      "0.5\n"
     ]
    }
   ],
   "source": [
    "# También es posible ver cada una de las tablas si el usuario desea comprobar que tengan sentido con un método visual\n",
    "# y en caso de que el check permita que sucedan cosas raras:\n",
    "\n",
    "for cpd in model.get_cpds():\n",
    "    print(cpd)\n",
    "    \n",
    "print(model.get_cpds('T').values[0][2][1])"
   ]
  },
  {
   "cell_type": "markdown",
   "metadata": {},
   "source": [
    "<strong><font color=\"#2e53b1\" style=\"font-size:30px;\"> Parte 2: Motor de inferencia por enumeración </font></strong>\n",
    "\n",
    "---\n",
    "\n",
    "**Contexto:**\n",
    "\n",
    "*Un motor de inferencia por enumeración es una técnica utilizada en redes bayesianas para calcular probabilidades exactas de eventos específicos. Este enfoque implica enumerar y sumar todas las posibles configuraciones de las variables de una red bayesiana que cumplen con las condiciones especificadas.*"
   ]
  },
  {
   "cell_type": "code",
   "execution_count": 65,
   "metadata": {},
   "outputs": [],
   "source": [
    "\"\"\"_summary_\n",
    "\n",
    "    Para nuestro código usamos la librería pgmpy que nos permite hacer todas las operaciones necesarias para trabajar con redes bayesianas. Y decidimos utilizar el método de BeliefPropagation\n",
    "    el cual no es más que un tipo de inferencia usada para calcular la probabilidad de un nodo dado un conjunto de valores de evidencia.\n",
    "    Sin embargo, también es posible utilizar VariableElimination, que es un método de inferencia que calcula la probabilidad de un nodo dado un conjunto de valores de evidencia también.\n",
    "    y para hacer esto sólo se debe cambiar la siguiente línea:\n",
    "    \n",
    "    infer = BeliefPropagation(model) -> infer = VariableElimination(model)\n",
    "\"\"\"\n",
    "\n",
    "# Motor de inferencia por enumeración\n",
    "# from pgmpy.inference import VariableElimination\n",
    "from pgmpy.inference import BeliefPropagation\n",
    "from pgmpy.inference import VariableElimination\n",
    "\n",
    "infer = VariableElimination(model)"
   ]
  },
  {
   "cell_type": "code",
   "execution_count": 66,
   "metadata": {},
   "outputs": [],
   "source": [
    "# model.active_trail_nodes('D', observed='G')"
   ]
  },
  {
   "cell_type": "markdown",
   "metadata": {},
   "source": [
    "<strong><font color=\"#2e53b1\" style=\"font-size:30px;\"> Configuración del usuario al correr el programa </font></strong>"
   ]
  },
  {
   "cell_type": "code",
   "execution_count": 67,
   "metadata": {},
   "outputs": [
    {
     "name": "stdout",
     "output_type": "stream",
     "text": [
      "+--------------+----------+\n",
      "| A            |   phi(A) |\n",
      "+==============+==========+\n",
      "| A(attend: 0) |   0.8100 |\n",
      "+--------------+----------+\n",
      "| A(miss: 1)   |   0.1900 |\n",
      "+--------------+----------+\n"
     ]
    }
   ],
   "source": [
    "\n",
    "\"\"\"_summary_\n",
    "\n",
    "    Método automatizado: La librería se encarga de generar la solución para cada caso dada la evidencia\n",
    "    En nuestro caso, sirve para comprobar que los resultados que tengamos son correctos\n",
    "    \n",
    "\"\"\"\n",
    "\n",
    "# Validación\n",
    "\n",
    "# Caso general\n",
    "# print(lista_de_nodos)\n",
    "# probabilidades_bayesianas = infer.query(lista_de_nodos, evidence={}, joint=True)\n",
    "\n",
    "# Caso particular\n",
    "# Para nuestro ejemplo inventado, queremos saber si la persona logró el GRADE de un examen difícil y siendo inteligente\n",
    "\n",
    "lista_de_nodos_especificos = ['A']\n",
    "probabilidades_bayesianas = infer.query(lista_de_nodos_especificos, evidence={'R': 'light: 1', 'M': 'no: 1'}, joint=True)\n",
    "\n",
    "# Posibles combinaciones\n",
    "print(probabilidades_bayesianas)"
   ]
  },
  {
   "cell_type": "code",
   "execution_count": 68,
   "metadata": {},
   "outputs": [],
   "source": [
    "\"\"\"\n",
    "    _summary_:\n",
    "    \n",
    "    Método manual:\n",
    "    \n",
    "    1. Se indica la variable objetivo\n",
    "    2. Se indican las variables evidencia\n",
    "    3. Se buscan las variables ocultas\n",
    "    4. Se realiza la normalización\n",
    "\n",
    "\"\"\"\n",
    "# Pasos 1 y 2\n",
    "\n",
    "variable_objetivo = 'A'\n",
    "variable_evidencia = {'R': 1, 'M': 1}\n",
    "nodos_iniciales = ['A', 'R', 'M']\n",
    "\n",
    "formula_inicial = f\"Fórmula inicial: P ( {variable_objetivo} | {variable_evidencia})\"\n",
    "formula_derivada_original = f\"Fórmula derivada: α P({' ∧ '.join(nodos_iniciales)})\"\n",
    "\n",
    "\n",
    "\n",
    "# Ejemplo básico con variables conjuntas\n",
    "# print(probabilidades_bayesianas.values[1][1][1][1])\n",
    "\n",
    "# Ejemplo con inferencia\n",
    "# print(probabilidades_bayesianas.values[0][1][1])"
   ]
  },
  {
   "cell_type": "code",
   "execution_count": 87,
   "metadata": {},
   "outputs": [],
   "source": [
    "from collections import deque\n",
    "\n",
    "def encontrar_dependencias(target, nodos_funcion=nodos):\n",
    "    # Se buscan las variables ocultas, con base a las dependencias\n",
    "    dependencias = set()\n",
    "    stack = [target]\n",
    "    \n",
    "    while stack:\n",
    "        actual = stack.pop()\n",
    "        # Se revisan los nodos padres del nodo actual\n",
    "        for parent in nodos_funcion[actual][1]:\n",
    "            # Si el nodo actual tiene un padre, y no está en la variable de dependencias\n",
    "            # se agregará a la pila y al conjunto de dependencias\n",
    "            if parent not in dependencias:\n",
    "                dependencias.add(parent)\n",
    "                stack.append(parent)\n",
    "    \n",
    "    return dependencias\n",
    "\n",
    "def traverse_independent_to_target(independents, target, nodos_funcion=nodos):\n",
    "    queue = deque(independents)\n",
    "    visited = set()\n",
    "    result = []\n",
    "    \n",
    "    while queue:\n",
    "        current = queue.popleft()\n",
    "        if current not in visited:\n",
    "            visited.add(current)\n",
    "            result.append(current)\n",
    "            for child in nodos_funcion[current][2]:\n",
    "                queue.append(child)\n",
    "    \n",
    "    if target in result:\n",
    "        target_index = result.index(target)\n",
    "        return result[:target_index + 1]\n",
    "    else:\n",
    "        return None\n",
    "\n",
    "def valor_recorrido(nodos_recorrido, valores_evidencia,nodos_funcion=nodos):\n",
    "    # Se busca el valor de la probabilidad conjunta\n",
    "    probabilidad_conjunta = 1\n",
    "    for nodo in nodos_recorrido:\n",
    "        padres = nodos_funcion[nodo][1]\n",
    "        if padres == []:\n",
    "            probabilidad_conjunta *= model.get_cpds(nodo).values[valores_evidencia[nodo]]\n",
    "            print(f\"P( {nodo} = {valores_evidencia[nodo]} )\", end=\" \")\n",
    "        else:\n",
    "            # Con base a los padres, accedo al nodo\n",
    "            aux = model.get_cpds(nodo).values[valores_evidencia[nodo]]\n",
    "            for padre in padres:\n",
    "                # print(padre)\n",
    "                aux = aux[valores_evidencia[padre]] \n",
    "            # print(aux)\n",
    "            print(f\"P( {nodo} = {valores_evidencia[nodo]} | {', '.join(padres)} )\", end=\" \")\n",
    "            probabilidad_conjunta *= aux\n",
    "            \n",
    "    return probabilidad_conjunta\n",
    "\n",
    "def normalizacion(lista_para_operar):\n",
    "    # Se realiza la normalización\n",
    "    suma = sum(lista_para_operar)\n",
    "    alfa = 1/suma\n",
    "    resultado = list(map(lambda x: x * alfa, lista_para_operar))\n",
    "    return resultado"
   ]
  },
  {
   "cell_type": "code",
   "execution_count": 70,
   "metadata": {},
   "outputs": [
    {
     "name": "stdout",
     "output_type": "stream",
     "text": [
      "['T']\n"
     ]
    }
   ],
   "source": [
    "# Generamos los nodos invisibles\n",
    "\n",
    "dependencias = list(encontrar_dependencias(variable_objetivo))\n",
    "\n",
    "nodos_invisibles = list(set(dependencias)\\\n",
    "    .symmetric_difference(set(nodos_iniciales))\\\n",
    "    .symmetric_difference(set(variable_objetivo)))\n",
    "\n",
    "print(nodos_invisibles)"
   ]
  },
  {
   "cell_type": "code",
   "execution_count": 71,
   "metadata": {},
   "outputs": [],
   "source": [
    "# BLOQUE DE TRAZABILIDAD\n",
    "\n",
    "for dependencia in dependencias:\n",
    "    if dependencia not in nodos_iniciales:\n",
    "        nodos_iniciales.append(dependencia)\n",
    "\n",
    "# Formula para traza\n",
    "formula_derivada_variables_ocultas = f\"Fórmula derivada: α ∑ P({' ∧ '.join(nodos_iniciales)})\"\n"
   ]
  },
  {
   "cell_type": "code",
   "execution_count": 72,
   "metadata": {},
   "outputs": [],
   "source": [
    "# Se genera el recorrido que se va a realizar\n",
    "\n",
    "# Una vez conocidas todas las dependencias, revisamos que nodos son totalmente independientes\n",
    "nodos_independientes = []\n",
    "for dependencia in dependencias:\n",
    "    if nodos[dependencia][1] == []:\n",
    "        nodos_independientes.append(dependencia)\n",
    "\n",
    "# Generamos el recorrido desde los nodos independientes hasta el objetivo\n",
    "recorrido = traverse_independent_to_target(nodos_independientes, variable_objetivo)"
   ]
  },
  {
   "cell_type": "code",
   "execution_count": 89,
   "metadata": {},
   "outputs": [
    {
     "name": "stdout",
     "output_type": "stream",
     "text": [
      "P( R = 1 ) P( M = 1 | R ) P( T = 0 | R, M ) P( A = 0 | T )  = 0.10080000000000001\n",
      "P( R = 1 ) P( M = 1 | R ) P( T = 1 | R, M ) P( A = 0 | T )  = 0.12960000000000002\n",
      "P( R = 1 ) P( M = 1 | R ) P( T = 0 | R, M ) P( A = 1 | T )  = 0.011200000000000002\n",
      "P( R = 1 ) P( M = 1 | R ) P( T = 1 | R, M ) P( A = 1 | T )  = 0.030400000000000007\n"
     ]
    }
   ],
   "source": [
    "# El recorrido puede hacerse con dos bucles:\n",
    "# el primer bucle recorre revisa los estados de la variable objetivo para hacer los cálculos\n",
    "# De modo que un estado es fijo en cada recorrido\n",
    "# el segundo bucle tiene en cuenta las variables invisibles, y también les genera un estado fijo\n",
    "# en cada recorrido\n",
    "# el tercer bucle usa los valores de las variables ya existentes\n",
    "\n",
    "# print(model.get_cpds(variable_objetivo).variable_card)\n",
    "\n",
    "n_estados_var_objetivo = model.get_cpds(variable_objetivo).variable_card\n",
    "\n",
    "\n",
    "\n",
    "resultados_estados = []\n",
    "for estado_var_objetivo in range(n_estados_var_objetivo):\n",
    "    # Puedo ejecutar estado de la variable objetivo\n",
    "    # print(estado)\n",
    "    \n",
    "    # Resultados finales\n",
    "    resultado_estado = 0\n",
    "    \n",
    "    # Accedo a los nodos invisibles\n",
    "    for nodo_invicible in nodos_invisibles:\n",
    "        # Accedo a los estados de los nodos invisibles\n",
    "        # print(nodos_invisibles)\n",
    "        for estado_var_invisible in range(model.get_cpds(nodo_invicible).variable_card):\n",
    "            # Puedo ejecutar estado de la variable invisible\n",
    "            # print(estado_var_invisible)\n",
    "            variable_evidencia[variable_objetivo] = estado_var_objetivo\n",
    "            variable_evidencia[nodo_invicible] = estado_var_invisible\n",
    "            # Obtención del porcentaje del primer estado\n",
    "            resultado_estado += valor_recorrido(recorrido, variable_evidencia)\n",
    "            print(f\" = {resultado_estado}\")          \n",
    "        \n",
    "        # En este ciclo se obtiene el resultado de la iteración de var_inde\n",
    "        resultados_estados.append(resultado_estado)\n",
    " \n"
   ]
  },
  {
   "cell_type": "code",
   "execution_count": 74,
   "metadata": {},
   "outputs": [
    {
     "name": "stdout",
     "output_type": "stream",
     "text": [
      "formulas aplicadas ->\n",
      "formula inicial: Fórmula inicial: P ( A | {'R': 1, 'M': 1})\n",
      "formula derivada: Fórmula derivada: α P(A ∧ R ∧ M)\n",
      "formula final: Fórmula derivada: α ∑ P(A ∧ R ∧ M ∧ T)\n",
      "\n",
      "\n",
      "=============================================\n",
      "\n",
      "\n",
      "resultados prenormalización: [0.12960000000000002, 0.030400000000000007]\n",
      "resultados normalizados: [0.81, 0.19]\n"
     ]
    }
   ],
   "source": [
    "# N O R M A L I Z A C I Ó N\n",
    "\n",
    "print(f\"formulas aplicadas ->\")\n",
    "print(f\"formula inicial: {formula_inicial}\")\n",
    "print(f\"formula derivada: {formula_derivada_original}\")\n",
    "print(f\"formula final: {formula_derivada_variables_ocultas}\\n\\n\")\n",
    "\n",
    "print(\"=============================================\\n\\n\")\n",
    "\n",
    "# Resultados prenormalización\n",
    "print(f\"resultados prenormalización: {resultados_estados}\")\n",
    "\n",
    "# Resultados Normalizados\n",
    "\n",
    "print(f\"resultados normalizados: {normalizacion(resultados_estados)}\")\n"
   ]
  }
 ],
 "metadata": {
  "kernelspec": {
   "display_name": "IA",
   "language": "python",
   "name": "python3"
  },
  "language_info": {
   "codemirror_mode": {
    "name": "ipython",
    "version": 3
   },
   "file_extension": ".py",
   "mimetype": "text/x-python",
   "name": "python",
   "nbconvert_exporter": "python",
   "pygments_lexer": "ipython3",
   "version": "3.11.5"
  }
 },
 "nbformat": 4,
 "nbformat_minor": 2
}
